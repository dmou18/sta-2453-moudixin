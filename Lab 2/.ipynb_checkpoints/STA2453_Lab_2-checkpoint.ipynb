{
 "cells": [
  {
   "cell_type": "code",
   "execution_count": null,
   "metadata": {
    "id": "meL-eG1kHiKz"
   },
   "outputs": [],
   "source": [
    "# preamble. \n",
    "import numpy as np # basic vector/matrix math\n",
    "import matplotlib.pyplot as plt # plotting and illustrations \n",
    "import seaborn as sns # advanced plotting and illustrations. \n",
    "import pandas as pd # data loading, saving, and general data manipulation. \n",
    "import scipy.stats as stats # inter alia, statistical distributions, functions and relevant objects.\n",
    "import scipy.optimize as optimize \n",
    "import torch # ML/AI model's and general optimization \n",
    "\n",
    "\n",
    "# regression model imports.  \n",
    "from sklearn.linear_model import LinearRegression\n",
    "from sklearn.linear_model import LogisticRegression\n"
   ]
  },
  {
   "cell_type": "markdown",
   "metadata": {
    "id": "cy8lXz8xHype"
   },
   "source": [
    "# STA 2453 Lab 2 Submission\n",
    "\n",
    "This lab notebook must be completed in the appropriate time during class and invigilated by the instructor. There are  3 parts in this evaluation, you must add both this notebook, and another generated `.py` file to the PR. \n",
    "\n",
    "Once the PR is in place, please tag both me and the TA in it. So in the end you will have two files. \n",
    "\n",
    "- `STA2453-Lab-2.ipynb`\n",
    "- `STA2453-Lab-2.py`\n",
    "\n",
    "Both of these are needed for a good submission. \n",
    "\n"
   ]
  },
  {
   "cell_type": "markdown",
   "metadata": {
    "id": "SGEciGvQH7jr"
   },
   "source": [
    "\n",
    "\n",
    "\n",
    "\n",
    "---\n",
    "\n",
    "## Case Study: Modelling Student Survey Results from the University of Catania, Italy.\n",
    "---\n",
    "\n",
    "This data is collected from a survey of 270 students attending a statistics course at the Department of Economics and Business of the University of Catania in the academic year 2011/2012.  It\n",
    "     contains the following variables:\n",
    "\n",
    "- `GENDER` gender of the respondent\n",
    "\n",
    "- `HEIGHT` height of the respondent, measured in centimeters\n",
    "\n",
    "- `WEIGHT` weight of the respondent measure in kilograms. \n",
    "\n",
    "- `HEIGHT.F` height of the respondent's father measured in centimeters. \n",
    "\n",
    "---\n",
    "\n"
   ]
  },
  {
   "cell_type": "markdown",
   "metadata": {
    "id": "zvZjHQmZJJt1"
   },
   "source": [
    "---\n",
    "\n",
    "## Part 1 Linear Regression \n",
    "---\n",
    "\n",
    "This part of the evaluation considers a linear regression model with an extension into a weighted counterpart.  \n",
    "\n",
    "We wish to assess the viability of this statement:\n",
    "\n",
    "`Can the height of the father predict the height of the child?` \n",
    "\n",
    "Load the dataset into a dataframe called `df`, grab the relevant columns as stated above. \n",
    "\n",
    "Next create two dataframes named `df_m` and `df_f` for male/female respectively. \n",
    "\n",
    "\n"
   ]
  },
  {
   "cell_type": "code",
   "execution_count": null,
   "metadata": {},
   "outputs": [],
   "source": []
  },
  {
   "cell_type": "code",
   "execution_count": 2,
   "metadata": {
    "id": "5gADh3OiHz5v"
   },
   "outputs": [
    {
     "name": "stdout",
     "output_type": "stream",
     "text": [
      "--2022-11-22 09:59:11--  https://utstat.utoronto.ca/~pocucan/italian_students.csv\n",
      "Resolving utstat.utoronto.ca (utstat.utoronto.ca)... 128.100.73.195\n",
      "Connecting to utstat.utoronto.ca (utstat.utoronto.ca)|128.100.73.195|:443... connected.\n",
      "HTTP request sent, awaiting response... 200 OK\n",
      "Length: 5603 (5.5K) [text/csv]\n",
      "Saving to: ‘italian_students.csv.1’\n",
      "\n",
      "italian_students.cs 100%[===================>]   5.47K  --.-KB/s    in 0s      \n",
      "\n",
      "2022-11-22 09:59:11 (2.61 GB/s) - ‘italian_students.csv.1’ saved [5603/5603]\n",
      "\n"
     ]
    }
   ],
   "source": [
    "# load the dataset and segment by reported gender. \n",
    "!wget https://utstat.utoronto.ca/~pocucan/italian_students.csv\n",
    "\n",
    "# just grab the relevant columns \n",
    "\n",
    "\n",
    "# segment by gender. \n"
   ]
  },
  {
   "cell_type": "code",
   "execution_count": null,
   "metadata": {
    "id": "tpU7kBUVPief"
   },
   "outputs": [],
   "source": [
    "# plot the data in a pairplot using the seaborn package and title it appropriately. \n",
    "\n",
    "# give some comments on the structure of the data. \n"
   ]
  },
  {
   "cell_type": "markdown",
   "metadata": {
    "id": "85krYb6G7kp3"
   },
   "source": [
    "Plot the same data in a pairplot using the seaborn package. Title it approprietly, AND, \n",
    "color the points by the GENDER variable. \n",
    "- Females in red \n",
    "- Males in blue\n",
    "\n",
    "Give some comments on the structure of the data. Specifically whether the assumptions for a linear model fit are valid or not. "
   ]
  },
  {
   "cell_type": "code",
   "execution_count": null,
   "metadata": {
    "id": "_JT4urmaRUgd"
   },
   "outputs": [],
   "source": [
    "# plot the data with respective colours. \n",
    "\n",
    "# now give some comments on the structure of the data, "
   ]
  },
  {
   "cell_type": "markdown",
   "metadata": {
    "id": "XH5L87pV8F4H"
   },
   "source": [
    "Fit a linear model using the following setup: \n",
    "`HEIGHT ~ HEIGHT.F`, ie. can the father's height predict the child's hight. Denote this linear model as \n",
    "`lm_general`, i.e. a linear model for the general dataset. \n",
    "\n",
    "Calculate the MSE of `lm_general`. "
   ]
  },
  {
   "cell_type": "code",
   "execution_count": null,
   "metadata": {
    "id": "6f2UsAcdT4dZ"
   },
   "outputs": [],
   "source": [
    "# declare model. \n",
    "\n",
    "# fit model. \n",
    "\n",
    "# MSE. "
   ]
  },
  {
   "cell_type": "markdown",
   "metadata": {
    "id": "sOMK9ing8fWp"
   },
   "source": [
    "Fit two linear models using the same setup \n",
    "`HEIGHT ~ HEIGHT.F`, on the dataframes `df_m` and `df_f`, the two segmented by gender populations. \n",
    "\n",
    "You should have two different model objects, name them \n",
    "`lm_male` and `lm_female`. \n",
    "\n",
    "report the aggregate MSE for both models. Ie.\n",
    "- MSE_F\n",
    "- MSE_M  \n",
    "- MSE_AGGREGATE = MSE_F + MSE_M \n",
    "\n",
    "Comment on the difference between the MSE performance of these models vs the previous, general model. \n",
    "\n"
   ]
  },
  {
   "cell_type": "code",
   "execution_count": null,
   "metadata": {
    "id": "vD4J5yTCN43-"
   },
   "outputs": [],
   "source": [
    "# declare models for each gender. \n",
    "\n",
    "# fit male\n",
    "\n",
    "# fit female "
   ]
  },
  {
   "cell_type": "code",
   "execution_count": null,
   "metadata": {
    "id": "xYcq3CFEOXfz"
   },
   "outputs": [],
   "source": [
    "# calculate MSE's\n",
    "\n",
    "# comment on results. "
   ]
  },
  {
   "cell_type": "markdown",
   "metadata": {
    "id": "1s2I_a8MW6wA"
   },
   "source": [
    "Render a scatter plot of `x=HEIGHT.F` and `y=HEIGHT` in grey points. \n",
    "\n",
    "- Plot the predicted fits of the `lm_general` model in black. (Black line)\n",
    "- Plot the predictive fits of the `lm_male` model in blue. (Blue line)\n",
    "- Plot the predictive fits of the `lm_female` model in red. (Red line) \n",
    "\n",
    "All superimposed on the same plot. So the plot should have grey points, one black line, one red line, and one blue line. Title it appropriately. \n",
    "\n",
    "Comment on how/why segmentation improves the model fit. Be sure to address the assumptions of a linear regression model. "
   ]
  },
  {
   "cell_type": "code",
   "execution_count": null,
   "metadata": {
    "id": "8pTMdmKgb4cT"
   },
   "outputs": [],
   "source": [
    "# calculate y_hats. \n"
   ]
  },
  {
   "cell_type": "code",
   "execution_count": null,
   "metadata": {
    "id": "cA5q3GOocaML"
   },
   "outputs": [],
   "source": [
    "# Plot the fits of the lm models, you need three lines, one blue, one black, and one red.  \n",
    "# points are in grey.  \n",
    "\n",
    "# don't forget to title it correctly! "
   ]
  },
  {
   "cell_type": "markdown",
   "metadata": {
    "id": "riyuCnIZ9vkB"
   },
   "source": [
    "---\n",
    "# Part 2 Logistic and Weighted Linear Regression \n",
    "---\n",
    "\n",
    "Fit a logistic regression model predicting gender as `GENDER ~ WEIGHT`, name it `lm_logreg`. \n",
    "\n",
    "Render a scatter plot with the `x=HEIGHT.F`, `y=HEIGHT` with the points colored by the predicted gender of the `lm_logreg` model. \n",
    "- Females in red. \n",
    "- Males in blue. \n",
    "\n",
    "Using the visual, comment on the performance of the logistic regression to segment populations. Use one of subplots for the pairplot in Part 1 to justify the performance of the model. "
   ]
  },
  {
   "cell_type": "code",
   "execution_count": null,
   "metadata": {
    "id": "zFGPBL0nd2nn"
   },
   "outputs": [],
   "source": [
    "# do a logistic model predicting GENDER \n",
    "\n",
    "# predict class. \n",
    "\n",
    "# free function to help you with creating colors just for you. \n",
    "def map_colors(x): \n",
    "  if x == \"F\":\n",
    "    return \"red\"\n",
    "  else: \n",
    "    return \"blue\"\n",
    "\n",
    "# create color np.array "
   ]
  },
  {
   "cell_type": "code",
   "execution_count": null,
   "metadata": {
    "id": "szXFRst0fFq8"
   },
   "outputs": [],
   "source": [
    "# plot scatter plot with logistic regression labels by color. \n",
    "\n",
    "# comment on the results. "
   ]
  },
  {
   "cell_type": "markdown",
   "metadata": {
    "id": "Ly7lf2qS-wCo"
   },
   "source": [
    "Acquire the probabilities from the logistic regression model, denote the probability matrix `Z`. The matrix should be `(270,2)` in shape, each entry denoting the probability for each observation `i` belonging to group `g`. ie. `z_ig`. \n",
    "\n",
    "For each column, create two weighted linear regression models denoted as `lm_female_weighted` and `lm_male_weighted`."
   ]
  },
  {
   "cell_type": "code",
   "execution_count": null,
   "metadata": {
    "id": "lZJnY8sPfhoz"
   },
   "outputs": [],
   "source": [
    "# calculate the weights of a logistic model, then use them for a weighted regression. \n",
    "\n",
    "# declare the weighted models. \n",
    "\n",
    "# fit the models. "
   ]
  },
  {
   "cell_type": "markdown",
   "metadata": {
    "id": "EqNCgXqOAUj9"
   },
   "source": [
    "Plot the data points in grey, plot the predicted fits of the general population for each linear model. \n",
    "\n",
    "- `lm_male_weighted` prediction in blue (blue line)\n",
    "- `lm_female_weighted` prediction in red (red line)\n",
    "\n",
    "Title it appropriately and comment on the weighted model fits compared to the `lm_general` model. "
   ]
  },
  {
   "cell_type": "code",
   "execution_count": null,
   "metadata": {
    "id": "0IM6yXO_hpkW"
   },
   "outputs": [],
   "source": [
    "# Plot the fits of the lm models. \n",
    "\n",
    "# comment on the results of the weighted linear regression. "
   ]
  },
  {
   "cell_type": "markdown",
   "metadata": {
    "id": "dcBzPoNupw5w"
   },
   "source": [
    "---\n",
    "## Part 3: Finite Mixture Modelling \n",
    "---\n",
    "\n",
    "Fit an appropriate finite mixture model to the dataset. Determine the optimal number of components `G` using BIC.\n",
    "\n",
    "To achieve a 4 you must appropriately model both the conditional distribution of `HEIGHT ~ HEIGHT.F` and the covariate distribution for `HEIGHT.F` within the context of a finite mixture model. "
   ]
  },
  {
   "cell_type": "code",
   "execution_count": null,
   "metadata": {
    "id": "azFNHIX7i6Io"
   },
   "outputs": [],
   "source": [
    "# declare X,y \n",
    "\n",
    "# set up tensor such that y is in the first column.\n",
    "\n",
    "# scale the data. \n",
    "\n",
    "# declare the model. \n",
    "\n",
    "# train the model with appropriate lr and max_iterations. \n",
    "\n",
    "# do it again with multiple settings of G to figure out which one is the best. \n",
    "# Report the BIC results for multiple G's. "
   ]
  },
  {
   "cell_type": "markdown",
   "metadata": {
    "id": "bN81mKilFxv4"
   },
   "source": [
    "### Plot Mixture Model Results \n",
    "\n",
    "Acquire the labels of the model by taking the maximum of the a-posteriori. (MAP) Render a scatter plot of \n",
    "`x=HEIGHT.F`, `y=HEIGHT`, with the colors being the labels given by the MAP's. \n",
    "\n",
    "- Males should be colored in blue.\n",
    "- Females should be colored in red. \n",
    "\n",
    "comment on the ability of the finite mixture model to segment the population in an unsupervised manner. "
   ]
  },
  {
   "cell_type": "code",
   "execution_count": null,
   "metadata": {
    "id": "1bB1jDD0rMdb"
   },
   "outputs": [],
   "source": [
    "# get MAP labels. \n",
    "\n",
    "# declare colours and plot HEIGHT.F vs HEIGHT. "
   ]
  },
  {
   "cell_type": "markdown",
   "metadata": {
    "id": "1ILJ6gDvlJMF"
   },
   "source": [
    "### Classification Table\n",
    "Use the following function (`table_counts`) to create a classification table. \n",
    "Pass in the GENDER column as well as the output of the MAP labels, and comment on the ability of the Finite mixture model to correctly classify the sub-populations. \n"
   ]
  },
  {
   "cell_type": "code",
   "execution_count": null,
   "metadata": {
    "id": "0iX35XErtvfh"
   },
   "outputs": [],
   "source": [
    "def table_counts(x: np.array, y: np.array, labels=[\"x\",\"y\"]) -> None:\n",
    "  \"\"\"\n",
    "    Creates a classification table to visually assess misclassification. \n",
    "  \"\"\"\n",
    "\n",
    "  table_df = pd.DataFrame({labels[0]: x, labels[1]: y})\n",
    "  print(table_df.groupby(labels).size().unstack())\n",
    "\n",
    "# get the classification table. \n",
    "\n",
    "# comment on the performance of the finite mixture model. "
   ]
  }
 ],
 "metadata": {
  "colab": {
   "provenance": []
  },
  "kernelspec": {
   "display_name": "Python 3 (ipykernel)",
   "language": "python",
   "name": "python3"
  },
  "language_info": {
   "codemirror_mode": {
    "name": "ipython",
    "version": 3
   },
   "file_extension": ".py",
   "mimetype": "text/x-python",
   "name": "python",
   "nbconvert_exporter": "python",
   "pygments_lexer": "ipython3",
   "version": "3.9.13"
  }
 },
 "nbformat": 4,
 "nbformat_minor": 1
}
