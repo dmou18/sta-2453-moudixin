{
  "cells": [
    {
      "cell_type": "code",
      "execution_count": 82,
      "metadata": {
        "id": "meL-eG1kHiKz"
      },
      "outputs": [],
      "source": [
        "# preamble. \n",
        "import numpy as np # basic vector/matrix math\n",
        "import matplotlib.pyplot as plt # plotting and illustrations \n",
        "import seaborn as sns # advanced plotting and illustrations. \n",
        "import pandas as pd # data loading, saving, and general data manipulation. \n",
        "import scipy.stats as stats # inter alia, statistical distributions, functions and relevant objects.\n",
        "import scipy.optimize as optimize \n",
        "import torch # ML/AI model's and general optimization \n",
        "\n",
        "# needed for this lab \n",
        "from sklearn.preprocessing import PowerTransformer\n",
        "from sklearn.mixture import GaussianMixture\n",
        "\n",
        "import math as m"
      ]
    },
    {
      "cell_type": "markdown",
      "metadata": {
        "id": "cy8lXz8xHype"
      },
      "source": [
        "# STA 2453 Lab 3 Submission\n",
        "\n",
        "This lab notebook must be completed in the appropriate time during class and invigilated by the instructor. There are  3 parts in this evaluation, you must add both this notebook, and another generated `.py` file to the PR. \n",
        "\n",
        "Once the PR is in place, please tag both me and the TA in it. So in the end you will have two files. \n",
        "\n",
        "- `STA2453-Lab-3.ipynb`\n",
        "- `STA2453-Lab-3.py`\n",
        "\n",
        "Both of these are needed for a good submission. \n",
        "\n"
      ]
    },
    {
      "cell_type": "markdown",
      "metadata": {
        "id": "SGEciGvQH7jr"
      },
      "source": [
        "\n",
        "\n",
        "\n",
        "\n",
        "---\n",
        "\n",
        "## Case Study: The St. Louis Risk Research Project \n",
        "\n",
        "---\n",
        "\n",
        "Was an observational study to assess the affects of parental\n",
        "psychological disorders on child development. In the preliminary study, 69 families with 2 children were studied. The link to the dataset can be found here: \n",
        "`https://utstat.utoronto.ca/~pocucan/st4.csv`\n",
        "\n",
        "---\n",
        "\n",
        "This data is collected from a reading scores of 69 famlies with 2 children. \n",
        "It contains the following variables:\n",
        "\n",
        "- `R1` Reading score of child 1\n",
        "\n",
        "- `V1` Verbal score of child 1\n",
        "\n",
        "- `R2` Reading score of child 2\n",
        "\n",
        "- `V2` Verbal score of child 2\n",
        "\n",
        "---\n",
        "\n",
        "\n",
        "\n",
        "\n",
        "\n"
      ]
    },
    {
      "cell_type": "markdown",
      "metadata": {
        "id": "zvZjHQmZJJt1"
      },
      "source": [
        "---\n",
        "\n",
        "## Part 1 Power Transforms \n",
        "---\n",
        "\n",
        "This part of the evaluation requires you to employ power transforms to transform data from asymmetric to normal. \n",
        "\n",
        "Load the `stlouis` dataset in, plot a histogram of the `R1` and `V1` variables, and comment on the shape of them. \n",
        "\n",
        "Next, fit a power transform model on the two variables, and plot histograms  of the transformed data for `R1` and `V1`. \n",
        "\n",
        "Compare and contrast the before/after histograms for the transformations.\n"
      ]
    },
    {
      "cell_type": "code",
      "execution_count": 83,
      "metadata": {},
      "outputs": [],
      "source": [
        "def load_dataset():\n",
        "    \"\"\"\n",
        "        Load shanghai dataset with missing data. \n",
        "    \"\"\"\n",
        "    \n",
        "    df = pd.read_csv(\"./st4.csv\").iloc[1:,:]\n",
        "    df = df.iloc[:,1:5]\n",
        "    df.columns = [\"R1\",\"V1\",\"R2\",\"V2\"]\n",
        "    \n",
        "    return df \n",
        "\n",
        "def density(xi: np.array, pis: np.array, mus: np.array, Ss:np.array):\n",
        "    \"\"\" \n",
        "        Calculate log density of a multivariate normal density\n",
        "    \"\"\"\n",
        "    \n",
        "    p = xi.shape[0]\n",
        "    leading_constant = (np.pi * 2.0) ** (- p * 0.5)\n",
        "    \n",
        "    xm = xi - mus\n",
        "    xm = np.expand_dims(xm,axis=0)\n",
        "    Ss_inv = np.linalg.inv(Ss)\n",
        "    res = (xm.transpose(1,0,2) @ Ss_inv).transpose(1,0,2)\n",
        "    res = np.exp( ( -0.5 * (res * xm).sum(-1)) )\n",
        "   \n",
        "    # result \n",
        "    res = pis * np.sqrt(np.linalg.det(Ss_inv)) * res \n",
        "    res = float(leading_constant) * res\t\n",
        "    \n",
        "    return res \n",
        "\n",
        "\n",
        "\n",
        "def conditional_mean_imputation(X: np.array, pis: np.array, mus: np.array, Ss: np.array):\n",
        "    \"\"\"\n",
        "        Calculates cmi imputation based on z, mu, sigma, and x, for partials. \n",
        "        \n",
        "        Takes in a vector x (1,p) \n",
        "        \n",
        "    \"\"\"\n",
        "\n",
        "    # get missing vector index. \n",
        "    \n",
        "    mis = pd.DataFrame(X).isna().to_numpy() \n",
        "\n",
        "    for i in range(X.shape[0]):\n",
        "        xi = X[i,:] \n",
        "        mi = mis[i,:] \n",
        "        # get non missing entries\n",
        "        xi_d = xi[~mi]\n",
        "\n",
        "        # get parameters. \n",
        "        mu_d = mus[:, ~mi]\n",
        "        mu_m = mus[:, mi] \n",
        "        Ss_dd = Ss[:, ~mi][:,:, ~mi]\n",
        "        Ss_md = Ss[:, mi][:,:,~mi]\n",
        "        Ss_mm = Ss[:, mi][:,:,mi]\n",
        "\n",
        "        # compute conditional means. \n",
        "        dd_diff = np.expand_dims(xi_d - mu_d,-1)\n",
        "        \n",
        "        # leading matrix term. \n",
        "        lmatrix_term = Ss_md @ ( np.linalg.inv(Ss_dd))\n",
        "        mu_tildes = mu_m + (lmatrix_term @ (dd_diff))[:,:,0] \n",
        "\n",
        "        zigs = density(xi_d, pis, mu_d, Ss_dd) \n",
        "        zigs = zigs / zigs.sum()\n",
        "        zigs[0,-1] = 1.0 - zigs[0,:-1].sum()\n",
        "        zigs = zigs.transpose() \n",
        "        xi_m_imputed = (mu_tildes * zigs).sum(0)\n",
        "        xi[mi] = xi_m_imputed \n",
        "            \n",
        "\n",
        "    return X "
      ]
    },
    {
      "cell_type": "code",
      "execution_count": 84,
      "metadata": {
        "colab": {
          "base_uri": "https://localhost:8080/",
          "height": 281
        },
        "id": "5gADh3OiHz5v",
        "outputId": "744bb5a0-cacd-4eaf-fc67-124fff8f4101"
      },
      "outputs": [
        {
          "data": {
            "image/png": "[encoded data removed]",
            "text/plain": [
              "<Figure size 432x288 with 1 Axes>"
            ]
          },
          "metadata": {
            "needs_background": "light"
          },
          "output_type": "display_data"
        },
        {
          "data": {
            "image/png": "[encoded data removed]",
            "text/plain": [
              "<Figure size 432x288 with 1 Axes>"
            ]
          },
          "metadata": {
            "needs_background": "light"
          },
          "output_type": "display_data"
        },
        {
          "data": {
            "text/plain": [
              "<Figure size 432x288 with 0 Axes>"
            ]
          },
          "metadata": {},
          "output_type": "display_data"
        }
      ],
      "source": [
        "# load the dataset st4 dataset. \n",
        "df = load_dataset()\n",
        "# plot histograms of the reading and verbal score for child 1. \n",
        "plt.hist(df[\"R1\"], bins=50)\n",
        "plt.show()\n",
        "plt.hist(df[\"V1\"], bins=50)\n",
        "plt.show()\n",
        "plt.clf()"
      ]
    },
    {
      "cell_type": "code",
      "execution_count": 85,
      "metadata": {
        "colab": {
          "base_uri": "https://localhost:8080/",
          "height": 281
        },
        "id": "46QgpF6ds2uU",
        "outputId": "1577a00c-4c3d-4f22-ba20-e0958c97e39e"
      },
      "outputs": [],
      "source": [
        "# plot histogram is verbal score of child 1\n",
        "# Both dataset looks non-noraml and skewed to the left"
      ]
    },
    {
      "cell_type": "code",
      "execution_count": 86,
      "metadata": {
        "id": "tpU7kBUVPief"
      },
      "outputs": [
        {
          "name": "stderr",
          "output_type": "stream",
          "text": [
            "/Users/moudixin/opt/anaconda3/envs/myenv/lib/python3.9/site-packages/sklearn/base.py:443: UserWarning: X has feature names, but PowerTransformer was fitted without feature names\n",
            "  warnings.warn(\n"
          ]
        },
        {
          "data": {
            "image/png": "[encoded data removed]",
            "text/plain": [
              "<Figure size 432x288 with 1 Axes>"
            ]
          },
          "metadata": {
            "needs_background": "light"
          },
          "output_type": "display_data"
        },
        {
          "data": {
            "text/plain": [
              "(array([4., 1., 3., 5., 6., 4., 7., 3., 4., 2.]),\n",
              " array([-2.04883046, -1.6473846 , -1.24593874, -0.84449289, -0.44304703,\n",
              "        -0.04160117,  0.35984469,  0.76129055,  1.16273641,  1.56418227,\n",
              "         1.96562813]),\n",
              " <BarContainer object of 10 artists>)"
            ]
          },
          "execution_count": 86,
          "metadata": {},
          "output_type": "execute_result"
        },
        {
          "data": {
            "image/png": "[encoded data removed]",
            "text/plain": [
              "<Figure size 432x288 with 1 Axes>"
            ]
          },
          "metadata": {
            "needs_background": "light"
          },
          "output_type": "display_data"
        }
      ],
      "source": [
        "# declare a power transformer \n",
        "pt = PowerTransformer()\n",
        "\n",
        "# fit the power transformer onto the dataset. \n",
        "pt.fit(df.to_numpy())\n",
        "\n",
        "# transform the data, fit into dataframe. \n",
        "pt_df = pt.transform(df)\n",
        "pt_df = pd.DataFrame(pt_df)    \n",
        "\n",
        "pt_df.columns = df.columns    \n",
        "\n",
        "# plot histograms. \n",
        "plt.hist(pt_df[\"R1\"], bins=10)\n",
        "plt.show()\n",
        "plt.hist(pt_df[\"V1\"], bins=10)\n"
      ]
    },
    {
      "cell_type": "code",
      "execution_count": 87,
      "metadata": {},
      "outputs": [],
      "source": [
        "# After the powertransformation, the histagram of both variables are much more \"Normal\""
      ]
    },
    {
      "cell_type": "markdown",
      "metadata": {
        "id": "cw5Gm6M5yrvc"
      },
      "source": [
        "---\n",
        "## Part 2 Imputation\n",
        "---\n",
        "\n",
        "Take the original data. Perform an imputation procedure using a GMM model as discussed in class. \n",
        "\n",
        "Find the optimal number of G via some metric, show your results. \n",
        "\n",
        "Plot a pairsplot with the following schematic: \n",
        "- grey points are fully complete datapoints. \n",
        "- blue points are imputed datapoints and overlayed with the original grey. \n",
        "\n",
        "Comment on the fits and any relationships. \n"
      ]
    },
    {
      "cell_type": "code",
      "execution_count": 88,
      "metadata": {},
      "outputs": [],
      "source": [
        "\n",
        "# segment the relevant data for said power transformer\n",
        "na_mask = df.isna().any(axis=1) \n",
        "df_na = df.loc[na_mask,:]\n",
        "\n",
        "# remove fully missing observations \n",
        "df_na = df_na.loc[~df_na.isna().all(axis=1),:].copy() \n",
        "\n",
        "# clean \n",
        "df_clean = df.loc[~na_mask,:]"
      ]
    },
    {
      "cell_type": "code",
      "execution_count": 89,
      "metadata": {},
      "outputs": [
        {
          "name": "stdout",
          "output_type": "stream",
          "text": [
            "BIC with G=1 is 943.8633265736285\n",
            "BIC with G=2 is 973.2064083927759\n",
            "BIC with G=3 is 997.8105925014779\n",
            "BIC with G=4 is 990.2936015322786\n",
            "BIC with G=5 is 920.5373773379829\n",
            "BIC with G=6 is 884.8663011056092\n",
            "BIC with G=7 is 848.4186788945703\n",
            "BIC with G=8 is 682.1586208260373\n",
            "BIC with G=9 is 705.9093736756195\n",
            "BIC with G=10 is 586.6592401692312\n",
            "BIC with G=11 is 454.20033517326056\n",
            "BIC with G=12 is 378.7326274369896\n",
            "BIC with G=13 is 163.00598772322655\n",
            "BIC with G=14 is 238.6331625458729\n",
            "G with Lowest BIC is 13\n"
          ]
        }
      ],
      "source": [
        "lowest_bic = m.inf\n",
        "best_G = -1\n",
        "\n",
        "for i in range(1,15):\n",
        "    temp = GaussianMixture(n_components=i)\n",
        "    temp.fit(df_clean.to_numpy())\n",
        "    bic = temp.bic(df_clean.to_numpy())\n",
        "\n",
        "    if lowest_bic > bic:\n",
        "        lowest_bic = bic\n",
        "        best_G = i\n",
        "    print(f\"BIC with G={i} is {bic}\")\n",
        "    \n",
        "print(f\"G with Lowest BIC is {best_G}\")"
      ]
    },
    {
      "cell_type": "code",
      "execution_count": 90,
      "metadata": {
        "id": "12auACaSOPpL"
      },
      "outputs": [],
      "source": [
        "# fit best model \n",
        "G = best_G\n",
        "mm = GaussianMixture(n_components=G)\n",
        "mm.fit(df_clean.to_numpy())\n",
        "\n",
        "# get parameters for imputation \n",
        "mus = mm.means_\n",
        "Ss = mm.covariances_\n",
        "pis = mm.weights_\n",
        "\n",
        "# impute dataset\n",
        "x_imputed_numpy = conditional_mean_imputation(np.copy(df_na.to_numpy()), pis, mus, Ss);\n",
        "df_imputed = pd.DataFrame(x_imputed_numpy)\n",
        "\n",
        "df_imputed.columns = df_clean.columns    "
      ]
    },
    {
      "cell_type": "code",
      "execution_count": 91,
      "metadata": {},
      "outputs": [
        {
          "data": {
            "image/png": "[encoded data removed]",
            "text/plain": [
              "<Figure size 720x216 with 3 Axes>"
            ]
          },
          "metadata": {
            "needs_background": "light"
          },
          "output_type": "display_data"
        }
      ],
      "source": [
        "# plot results. \n",
        "plt.rcParams['text.usetex'] = True\n",
        "\n",
        "\n",
        "fig, (ax1,ax2, ax3) = plt.subplots(1,3, figsize=(10,3))\n",
        "marker_size = 5.0\n",
        "alpha = 0.70\n",
        "\n",
        "marker_color = \"grey\"\n",
        "\n",
        "ax1.set_title('')\n",
        "sns.scatterplot(x='R1', y='V2', data=df_clean, ax=ax1, alpha=alpha, s=marker_size, color=marker_color)\n",
        "ax1.set_xlabel(r\"R1\")\n",
        "ax1.set_ylabel(r\"V2\")\n",
        "\n",
        "ax2.set_title('')\n",
        "sns.scatterplot(x='V1', y='V2', data=df_clean, ax=ax2, s=marker_size, alpha=alpha, color=marker_color)\n",
        "ax2.set_xlabel(r\"V1\")\n",
        "ax2.set_ylabel(\"\")\n",
        "ax2.axes.get_yaxis().set_visible(False)\n",
        "\n",
        "\n",
        "ax3.set_title('')\n",
        "sns.scatterplot(x='R2', y='V2', data=df_clean, ax=ax3, s=marker_size, alpha=alpha, color=marker_color)\n",
        "ax3.set_xlabel(r\"R2\")\n",
        "ax3.set_ylabel(\"\")\n",
        "ax3.axes.get_yaxis().set_visible(False)\n",
        "fig.tight_layout()\n",
        "\n",
        "marker_size = 1.7 \n",
        "alpha = 1.0\n",
        "\n",
        "#color_palatte = sns.color_palette(\"cubehelix\",7)\n",
        "color_palatte = sns.color_palette(\"magma\", 20)\n",
        "colors = \"blue\" #df.labels.apply(lambda label: color_palatte[0])\n",
        "edge_color = \"lightblue\"# colors\n",
        "\n",
        "sns.scatterplot(x='R1', y='V2', data=df_imputed, ax=ax1, alpha=alpha, s=marker_size, edgecolor=edge_color, color=colors)\n",
        "sns.scatterplot(x='V1', y='V2', data=df_imputed, ax=ax2, s=marker_size, alpha=alpha, color=colors, edgecolor=edge_color)\n",
        "sns.scatterplot(x='R2', y='V2', data=df_imputed, ax=ax3, s=marker_size, alpha=alpha, color=colors, edgecolor=edge_color)\n",
        "\n",
        "plt.show()\n",
        "plt.clf()\n",
        "plt.rcParams['text.usetex'] = False\n",
        "plt.close()"
      ]
    },
    {
      "cell_type": "markdown",
      "metadata": {
        "id": "1NworMZvnjdq"
      },
      "source": [
        "---\n",
        "## Part 3 Transformation and Imputation \n",
        "---\n",
        "\n",
        "Take the original data. Perform an imputation procedure using a mixture model `AND` a transformation procedure together. \n",
        "\n",
        "To achieve a level 3 you must incorporate the transformation coherently, and, fit a mixture model after for imputation purposes. Here, the transformation, and fitting of the mixture model is done `SEPARATELY`. Ensure that during the imputation step you are working in the Gaussian space, and then transform it appropriately to desired domain of the original data. You are free to use any transformation scheme you like, Power transforms, Manly, etc. \n",
        "\n",
        "To achieve a level 4 you must adequatly incorporate a transformation `DIRECTLY` within the density of the mixture model component definition, and, fit it appropriately within an estimation step. It is reasonable to assume that if your component-wise distribution is already Gaussian, than your transformation method will still work, just won't be doing much.  \n",
        "\n",
        "Find the optimal number of G via some metric, show your results. \n",
        "\n",
        "Plot a pairsplot with the following schematic: \n",
        "- grey points are fully complete datapoints. \n",
        "- red points are imputed datapoints and overlayed with the original grey. \n",
        "\n",
        "Comment on the impuation and any relationships within the data, compare and contrast the results of the red points vs the blue points from Part 2. \n"
      ]
    },
    {
      "cell_type": "code",
      "execution_count": 92,
      "metadata": {},
      "outputs": [],
      "source": [
        "df = pt_df\n",
        "# get na mask \n",
        "na_mask = df.isna().any(axis=1) \n",
        "df_na = df.loc[na_mask,:]\n",
        "\n",
        "# remove fully missing observations \n",
        "df_na = df_na.loc[~df_na.isna().all(axis=1),:].copy() \n",
        "\n",
        "# clean \n",
        "df_clean = df.loc[~na_mask,:]"
      ]
    },
    {
      "cell_type": "code",
      "execution_count": 93,
      "metadata": {},
      "outputs": [
        {
          "name": "stdout",
          "output_type": "stream",
          "text": [
            "BIC with G=1 is 279.5419348495794\n",
            "BIC with G=2 is 309.91031373039147\n",
            "BIC with G=3 is 277.1347322340491\n",
            "BIC with G=4 is 281.96045783101033\n",
            "BIC with G=5 is 240.6907650140092\n",
            "BIC with G=6 is 279.86047305512545\n",
            "BIC with G=7 is 250.0178548059863\n",
            "BIC with G=8 is 156.31513927349943\n",
            "BIC with G=9 is 210.78183160108486\n",
            "BIC with G=10 is 137.1385889684663\n",
            "BIC with G=11 is 83.68594635323024\n",
            "BIC with G=12 is 59.441538670712816\n",
            "BIC with G=13 is 30.81115677025457\n",
            "BIC with G=14 is 31.068697465499554\n",
            "G with Lowest BIC is 13\n"
          ]
        }
      ],
      "source": [
        "lowest_bic = m.inf\n",
        "best_G = -1\n",
        "\n",
        "for i in range(1,15):\n",
        "    temp = GaussianMixture(n_components=i)\n",
        "    temp.fit(df_clean.to_numpy())\n",
        "    bic = temp.bic(df_clean.to_numpy())\n",
        "\n",
        "    if lowest_bic > bic:\n",
        "        lowest_bic = bic\n",
        "        best_G = i\n",
        "    print(f\"BIC with G={i} is {bic}\")\n",
        "    \n",
        "print(f\"G with Lowest BIC is {best_G}\")"
      ]
    },
    {
      "cell_type": "code",
      "execution_count": 94,
      "metadata": {
        "id": "Q6bWp9KoyqIT"
      },
      "outputs": [
        {
          "name": "stderr",
          "output_type": "stream",
          "text": [
            "/var/folders/qm/x5j5dd_j69x0dqj16b3sjqdw0000gn/T/ipykernel_12707/814212766.py:67: RuntimeWarning: invalid value encountered in divide\n",
            "  zigs = zigs / zigs.sum()\n"
          ]
        },
        {
          "data": {
            "text/html": [
              "<div>\n",
              "<style scoped>\n",
              "    .dataframe tbody tr th:only-of-type {\n",
              "        vertical-align: middle;\n",
              "    }\n",
              "\n",
              "    .dataframe tbody tr th {\n",
              "        vertical-align: top;\n",
              "    }\n",
              "\n",
              "    .dataframe thead th {\n",
              "        text-align: right;\n",
              "    }\n",
              "</style>\n",
              "<table border=\"1\" class=\"dataframe\">\n",
              "  <thead>\n",
              "    <tr style=\"text-align: right;\">\n",
              "      <th></th>\n",
              "      <th>R1</th>\n",
              "      <th>V1</th>\n",
              "      <th>R2</th>\n",
              "      <th>V2</th>\n",
              "    </tr>\n",
              "  </thead>\n",
              "  <tbody>\n",
              "    <tr>\n",
              "      <th>0</th>\n",
              "      <td>0.553171</td>\n",
              "      <td>1.378923</td>\n",
              "      <td>-5.343901</td>\n",
              "      <td>0.503857</td>\n",
              "    </tr>\n",
              "    <tr>\n",
              "      <th>1</th>\n",
              "      <td>0.399276</td>\n",
              "      <td>0.645879</td>\n",
              "      <td>0.629458</td>\n",
              "      <td>0.337159</td>\n",
              "    </tr>\n",
              "    <tr>\n",
              "      <th>2</th>\n",
              "      <td>1.755878</td>\n",
              "      <td>1.394153</td>\n",
              "      <td>1.415200</td>\n",
              "      <td>1.305206</td>\n",
              "    </tr>\n",
              "    <tr>\n",
              "      <th>3</th>\n",
              "      <td>0.553171</td>\n",
              "      <td>0.471702</td>\n",
              "      <td>0.892765</td>\n",
              "      <td>0.270076</td>\n",
              "    </tr>\n",
              "    <tr>\n",
              "      <th>4</th>\n",
              "      <td>2.375327</td>\n",
              "      <td>-0.187155</td>\n",
              "      <td>0.031558</td>\n",
              "      <td>0.767709</td>\n",
              "    </tr>\n",
              "    <tr>\n",
              "      <th>...</th>\n",
              "      <td>...</td>\n",
              "      <td>...</td>\n",
              "      <td>...</td>\n",
              "      <td>...</td>\n",
              "    </tr>\n",
              "    <tr>\n",
              "      <th>63</th>\n",
              "      <td>1.402803</td>\n",
              "      <td>0.190803</td>\n",
              "      <td>1.089317</td>\n",
              "      <td>0.632870</td>\n",
              "    </tr>\n",
              "    <tr>\n",
              "      <th>64</th>\n",
              "      <td>1.553759</td>\n",
              "      <td>-0.187155</td>\n",
              "      <td>0.231727</td>\n",
              "      <td>0.101318</td>\n",
              "    </tr>\n",
              "    <tr>\n",
              "      <th>65</th>\n",
              "      <td>1.709474</td>\n",
              "      <td>0.309005</td>\n",
              "      <td>-0.304088</td>\n",
              "      <td>0.833146</td>\n",
              "    </tr>\n",
              "    <tr>\n",
              "      <th>66</th>\n",
              "      <td>-0.357570</td>\n",
              "      <td>0.403073</td>\n",
              "      <td>-2.096460</td>\n",
              "      <td>-1.425063</td>\n",
              "    </tr>\n",
              "    <tr>\n",
              "      <th>67</th>\n",
              "      <td>-1.254931</td>\n",
              "      <td>-0.249620</td>\n",
              "      <td>-1.396900</td>\n",
              "      <td>-0.414674</td>\n",
              "    </tr>\n",
              "  </tbody>\n",
              "</table>\n",
              "<p>68 rows × 4 columns</p>\n",
              "</div>"
            ],
            "text/plain": [
              "          R1        V1        R2        V2\n",
              "0   0.553171  1.378923 -5.343901  0.503857\n",
              "1   0.399276  0.645879  0.629458  0.337159\n",
              "2   1.755878  1.394153  1.415200  1.305206\n",
              "3   0.553171  0.471702  0.892765  0.270076\n",
              "4   2.375327 -0.187155  0.031558  0.767709\n",
              "..       ...       ...       ...       ...\n",
              "63  1.402803  0.190803  1.089317  0.632870\n",
              "64  1.553759 -0.187155  0.231727  0.101318\n",
              "65  1.709474  0.309005 -0.304088  0.833146\n",
              "66 -0.357570  0.403073 -2.096460 -1.425063\n",
              "67 -1.254931 -0.249620 -1.396900 -0.414674\n",
              "\n",
              "[68 rows x 4 columns]"
            ]
          },
          "execution_count": 94,
          "metadata": {},
          "output_type": "execute_result"
        }
      ],
      "source": [
        "# fit best model \n",
        "G = best_G\n",
        "mm = GaussianMixture(n_components=G)\n",
        "mm.fit(df_clean.to_numpy())\n",
        "\n",
        "# get parameters for imputation \n",
        "mus = mm.means_\n",
        "Ss = mm.covariances_\n",
        "pis = mm.weights_\n",
        "\n",
        "# impute dataset\n",
        "x_imputed_numpy = conditional_mean_imputation(np.copy(pt_df.to_numpy()), pis, mus, Ss);\n",
        "df_imputed = pd.DataFrame(x_imputed_numpy)\n",
        "\n",
        "df_imputed.columns = df_clean.columns  \n",
        "df_imputed"
      ]
    },
    {
      "cell_type": "code",
      "execution_count": 95,
      "metadata": {},
      "outputs": [
        {
          "name": "stderr",
          "output_type": "stream",
          "text": [
            "/Users/moudixin/opt/anaconda3/envs/myenv/lib/python3.9/site-packages/sklearn/base.py:443: UserWarning: X has feature names, but PowerTransformer was fitted without feature names\n",
            "  warnings.warn(\n",
            "/Users/moudixin/opt/anaconda3/envs/myenv/lib/python3.9/site-packages/sklearn/base.py:443: UserWarning: X has feature names, but PowerTransformer was fitted without feature names\n",
            "  warnings.warn(\n"
          ]
        }
      ],
      "source": [
        "df_imputed = pd.DataFrame(pt.inverse_transform(df_imputed))\n",
        "df_imputed.columns = df.columns\n",
        "\n",
        "df_clean = pd.DataFrame(pt.inverse_transform(df_clean))\n",
        "df_clean.columns = df.columns\n"
      ]
    },
    {
      "cell_type": "code",
      "execution_count": 101,
      "metadata": {},
      "outputs": [
        {
          "data": {
            "image/png": "[encoded data removed]",
            "text/plain": [
              "<Figure size 720x216 with 3 Axes>"
            ]
          },
          "metadata": {
            "needs_background": "light"
          },
          "output_type": "display_data"
        }
      ],
      "source": [
        "# plot results. \n",
        "plt.rcParams['text.usetex'] = True\n",
        "\n",
        "\n",
        "fig, (ax1,ax2, ax3) = plt.subplots(1,3, figsize=(10,3))\n",
        "marker_size = 5.0\n",
        "alpha = 0.70\n",
        "\n",
        "marker_color = \"grey\"\n",
        "\n",
        "ax1.set_title('')\n",
        "sns.scatterplot(x='R1', y='V2', data=df_clean, ax=ax1, alpha=alpha, s=marker_size, color=marker_color)\n",
        "ax1.set_xlabel(r\"R1\")\n",
        "ax1.set_ylabel(r\"V2\")\n",
        "\n",
        "ax2.set_title('')\n",
        "sns.scatterplot(x='V1', y='V2', data=df_clean, ax=ax2, s=marker_size, alpha=alpha, color=marker_color)\n",
        "ax2.set_xlabel(r\"V1\")\n",
        "ax2.set_ylabel(\"\")\n",
        "ax2.axes.get_yaxis().set_visible(False)\n",
        "\n",
        "\n",
        "ax3.set_title('')\n",
        "sns.scatterplot(x='R2', y='V2', data=df_clean, ax=ax3, s=marker_size, alpha=alpha, color=marker_color)\n",
        "ax3.set_xlabel(r\"R2\")\n",
        "ax3.set_ylabel(\"\")\n",
        "ax3.axes.get_yaxis().set_visible(False)\n",
        "fig.tight_layout()\n",
        "\n",
        "marker_size = 1.7 \n",
        "alpha = 1.0\n",
        "\n",
        "#color_palatte = sns.color_palette(\"cubehelix\",7)\n",
        "color_palatte = sns.color_palette(\"magma\", 20)\n",
        "colors = \"red\" #df.labels.apply(lambda label: color_palatte[0])\n",
        "edge_color = \"lightblue\"# colors\n",
        "\n",
        "sns.scatterplot(x='R1', y='V2', data=df_imputed, ax=ax1, alpha=alpha, s=marker_size, edgecolor=edge_color, color=colors)\n",
        "sns.scatterplot(x='V1', y='V2', data=df_imputed, ax=ax2, s=marker_size, alpha=alpha, color=colors, edgecolor=edge_color)\n",
        "sns.scatterplot(x='R2', y='V2', data=df_imputed, ax=ax3, s=marker_size, alpha=alpha, color=colors, edgecolor=edge_color)\n",
        "\n",
        "plt.show()\n",
        "plt.clf()\n",
        "plt.rcParams['text.usetex'] = False\n",
        "plt.close()"
      ]
    },
    {
      "cell_type": "code",
      "execution_count": 97,
      "metadata": {
        "id": "s8GQHDqX_suG"
      },
      "outputs": [],
      "source": [
        "# based on this approach, the tails are captured much better, data is imputed clearly. "
      ]
    }
  ],
  "metadata": {
    "colab": {
      "provenance": []
    },
    "kernelspec": {
      "display_name": "Python 3.9.13 ('myenv')",
      "language": "python",
      "name": "python3"
    },
    "language_info": {
      "codemirror_mode": {
        "name": "ipython",
        "version": 3
      },
      "file_extension": ".py",
      "mimetype": "text/x-python",
      "name": "python",
      "nbconvert_exporter": "python",
      "pygments_lexer": "ipython3",
      "version": "3.9.13"
    },
    "vscode": {
      "interpreter": {
        "hash": "685c00ca0b23a90be59da3dbc7ba679698a050b0f6a1439d7791ea372346f7b0"
      }
    }
  },
  "nbformat": 4,
  "nbformat_minor": 0
}
