{
 "cells": [
  {
   "cell_type": "code",
   "execution_count": 1,
   "metadata": {
    "id": "zL_aYQRr_zZH"
   },
   "outputs": [],
   "source": [
    "# Let's code it up, preamble first. \n",
    "\n",
    "import numpy as np # basic vector/matrix math\n",
    "import matplotlib.pyplot as plt # plotting and illustrations \n",
    "import seaborn as sns # advanced plotting and illustrations. \n",
    "import pandas as pd # data loading, saving, and general data manipulation. \n",
    "import scipy.stats as stats # inter alia, statistical distributions, functions and relevant objects.\n",
    "import scipy.optimize as optimize \n",
    "import torch # ML/AI model's and general optimization "
   ]
  },
  {
   "cell_type": "markdown",
   "metadata": {
    "id": "OggTB2f0_2tj"
   },
   "source": [
    "# STA 2453 Lab 1 Submission\n",
    "\n",
    "This lab notebook must be completed in the appropriate time during class and invigilated by the instructor. There are _ questions, you must add both this notebook, and another generated .py file to the PR. \n",
    "\n",
    "Once the PR is in place, please tag both me and the TA in it. So in the end you will have two files. \n",
    "\n",
    "- `STA2453-Lab-1.ipynb`\n",
    "- `STA2453-Lab-1.py`\n",
    "\n",
    "Both of these are needed for a good submission. \n",
    "\n"
   ]
  },
  {
   "cell_type": "markdown",
   "metadata": {
    "id": "4nupNlXXYw4X"
   },
   "source": [
    "# Case Study: Does God Hate Rich People? \n",
    "\n",
    "\n",
    "## Introduction \n",
    "\n",
    "Extreme weather events in the U.S. are regularly tracked by the National Oceanic and Atomspheric Administration (NOAA).\n",
    "\n",
    "The NCDC Storm Events database is provided by the National Weather Service (NWS) and contain statistics on personal injuries and damage estimates. (ref. gov.noaa.ncdc:C00510). \n",
    "\n",
    "## The question is, are high-income or low-income households more susceptible to extreme weather events? \n",
    "\n",
    "The US Household Income dataset provided by Golden Oak Research Group contains 32,000 records on US Household Income Statistics & Geo Locations. The dataset originally developed for real estate and business investment research. Income is a vital element when determining both quality and socioeconomic features of a given geographic location. (ref. Golden Oak Research Group, LLC. “U.S. Income Database Kaggle”. Publication: 5, August 2017.)\n",
    "\n",
    "\n",
    "The two files listed here: \n",
    "\n",
    "## Storm Weather Event Data\n",
    "`https://raw.githubusercontent.com/nikpocuca/sta2453-2022.github.io/master/StormEvents_locations-ftp_v1.0_d2014_c20180718.csv`\n",
    "\n",
    "\n",
    "## Golden Oak Research Group Data\n",
    "`https://raw.githubusercontent.com/nikpocuca/sta2453-2022.github.io/master/kaggle_income_clean.csv`"
   ]
  },
  {
   "cell_type": "code",
   "execution_count": 2,
   "metadata": {
    "id": "TLBgzrAKZe_j"
   },
   "outputs": [
    {
     "name": "stdout",
     "output_type": "stream",
     "text": [
      "--2022-09-27 11:22:51--  https://raw.githubusercontent.com/nikpocuca/sta2453-2022.github.io/master/StormEvents_locations-ftp_v1.0_d2014_c20180718.csv\n",
      "Resolving raw.githubusercontent.com (raw.githubusercontent.com)... 185.199.108.133, 185.199.109.133, 185.199.110.133, ...\n",
      "Connecting to raw.githubusercontent.com (raw.githubusercontent.com)|185.199.108.133|:443... connected.\n",
      "HTTP request sent, awaiting response... 200 OK\n",
      "Length: 3967894 (3.8M) [text/plain]\n",
      "Saving to: ‘StormEvents_locations-ftp_v1.0_d2014_c20180718.csv.4’\n",
      "\n",
      "StormEvents_locatio 100%[===================>]   3.78M  4.97MB/s    in 0.8s    \n",
      "\n",
      "2022-09-27 11:22:52 (4.97 MB/s) - ‘StormEvents_locations-ftp_v1.0_d2014_c20180718.csv.4’ saved [3967894/3967894]\n",
      "\n",
      "--2022-09-27 11:22:52--  https://raw.githubusercontent.com/nikpocuca/sta2453-2022.github.io/master/kaggle_income_clean.csv\n",
      "Resolving raw.githubusercontent.com (raw.githubusercontent.com)... 185.199.109.133, 185.199.110.133, 185.199.111.133, ...\n",
      "Connecting to raw.githubusercontent.com (raw.githubusercontent.com)|185.199.109.133|:443... connected.\n",
      "HTTP request sent, awaiting response... 200 OK\n",
      "Length: 5484778 (5.2M) [text/plain]\n",
      "Saving to: ‘kaggle_income_clean.csv.4’\n",
      "\n",
      "kaggle_income_clean 100%[===================>]   5.23M  4.47MB/s    in 1.2s    \n",
      "\n",
      "2022-09-27 11:22:53 (4.47 MB/s) - ‘kaggle_income_clean.csv.4’ saved [5484778/5484778]\n",
      "\n"
     ]
    }
   ],
   "source": [
    "# Load data\n",
    "\n",
    "!wget https://raw.githubusercontent.com/nikpocuca/sta2453-2022.github.io/master/StormEvents_locations-ftp_v1.0_d2014_c20180718.csv\n",
    "!wget https://raw.githubusercontent.com/nikpocuca/sta2453-2022.github.io/master/kaggle_income_clean.csv\n"
   ]
  },
  {
   "cell_type": "code",
   "execution_count": 3,
   "metadata": {},
   "outputs": [],
   "source": [
    "income_df = pd.read_csv(\"kaggle_income_clean.csv\")\n",
    "storm_df = pd.read_csv(\"StormEvents_locations-ftp_v1.0_d2014_c20180718.csv\")"
   ]
  },
  {
   "cell_type": "markdown",
   "metadata": {
    "id": "ADELB3jTcSmo"
   },
   "source": [
    "\n",
    "## Cleaning Data \n",
    "\n",
    "We want to take only the continental US data, so that involves the following: \n",
    "\n",
    "- `20 < Lat < 50`\n",
    "- `Lon > -140`\n",
    "\n",
    "\n",
    "Furthermore we want to create two dataframes, one for poor people, one for rich people. According to the US Census Bureau, a person who's average income is below \\$25k is considered below the poverty line, while a person exceeding \\$100k is considered wealthy. \n",
    "\n",
    "Create two dataframes called `rich_df` and `poor_df` for analysis after cleaning out for strictly continental US. \n"
   ]
  },
  {
   "cell_type": "code",
   "execution_count": 4,
   "metadata": {
    "id": "hrhVA1JRbrGj"
   },
   "outputs": [],
   "source": [
    "# clean df. \n",
    "income_df = income_df[(income_df[\"Lat\"] < 50) & (income_df[\"Lat\"] > 20) & (income_df[\"Lon\"] > -140)]\n",
    "storm_df = storm_df[(storm_df[\"LATITUDE\"] < 50) & (storm_df[\"LATITUDE\"] > 20) & (storm_df[\"LONGITUDE\"] > -140)]"
   ]
  },
  {
   "cell_type": "code",
   "execution_count": 5,
   "metadata": {
    "id": "zoNnlD_5eL6F"
   },
   "outputs": [],
   "source": [
    "# rich/poor segmentation\n",
    "poor_df = income_df[income_df.Mean < 25000]\n",
    "rich_df = income_df[income_df.Mean > 100000]"
   ]
  },
  {
   "cell_type": "markdown",
   "metadata": {
    "id": "9KxOWp6giJBe"
   },
   "source": [
    "## Calculate Nearest Distance between Points\n",
    "\n",
    "For each household we need to calculate the nearest severe weather event. We should write a function to do this. Let $x$,$y$ denote longitude and latitude respectively. then for some Houshold $H$, we should calculate the distance to all the severe weather events $E$ longitude and latitude. \n",
    "\n",
    "\n",
    "$$ d_{H,E} = 110.574 \\times \\sqrt{(x_H - x_E)^2 + (y_H - y_E)^2} $$\n",
    "\n",
    "Basically we are getting a eucledian distance to each severe weather event, and then multiplying by a constant to convert to km's for sanity. Then we want to find the distance to the nearest event so we take the minimum... \n",
    "\n",
    "$$ d_{min} = \\text{argmin}\\{d_{H,E_1}, d_{H,E_2}, \\dots, d_{H,E_n} \\} $$ \n",
    "\n",
    "\n",
    "Do this for every household, and plot the results in a histogram for both rich/poor households.  "
   ]
  },
  {
   "cell_type": "code",
   "execution_count": 6,
   "metadata": {
    "id": "1gvObtIoh1y2"
   },
   "outputs": [],
   "source": [
    "# calculate the nearest points.\n",
    "\n",
    "def nearest_point(income_df, storm_df):\n",
    "    n = income_df.shape[0]\n",
    "    i = 0\n",
    "    ans = np.zeros(n, dtype = \"float\")\n",
    "    \n",
    "    for index, row in income_df.iterrows():\n",
    "        x_h = row['Lon']\n",
    "        y_h = row['Lat']\n",
    "        x_e = storm_df['LONGITUDE'].to_numpy()\n",
    "        y_e = storm_df['LATITUDE'].to_numpy()\n",
    "        \n",
    "        dist = 110.574 * ((x_h-x_e)**2+(y_h-y_e)**2)**0.5\n",
    "        dist = np.min(dist)\n",
    "        ans[i] = dist\n",
    "        i += 1\n",
    "    \n",
    "    return ans\n",
    "        \n",
    "rich_nearest_dist = nearest_point(rich_df, storm_df)\n",
    "poor_nearest_dist = nearest_point(poor_df, storm_df)\n",
    "    \n",
    "    \n",
    "    "
   ]
  },
  {
   "cell_type": "code",
   "execution_count": 19,
   "metadata": {
    "id": "qyUJS1khmDj7"
   },
   "outputs": [
    {
     "data": {
      "text/plain": [
       "Text(0.5, 1.0, 'Distribution of Nearest Storm for the Rich')"
      ]
     },
     "execution_count": 19,
     "metadata": {},
     "output_type": "execute_result"
    },
    {
     "data": {
      "image/png": "[encoded data removed]",
      "text/plain": [
       "<Figure size 640x480 with 1 Axes>"
      ]
     },
     "metadata": {},
     "output_type": "display_data"
    }
   ],
   "source": [
    "# plot rich people histogram, make bins at least 50, comment on the plot.\n",
    "plt.hist(np.log(rich_nearest_dist), bins = 50);\n",
    "plt.title(f\"Distribution of Nearest Storm for the Rich\")"
   ]
  },
  {
   "cell_type": "code",
   "execution_count": 20,
   "metadata": {
    "id": "eIDCYGQOmFB3"
   },
   "outputs": [
    {
     "data": {
      "text/plain": [
       "Text(0.5, 1.0, 'Distribution of Nearest Storm for the Poor')"
      ]
     },
     "execution_count": 20,
     "metadata": {},
     "output_type": "execute_result"
    },
    {
     "data": {
      "image/png": "[encoded data removed]",
      "text/plain": [
       "<Figure size 640x480 with 1 Axes>"
      ]
     },
     "metadata": {},
     "output_type": "display_data"
    }
   ],
   "source": [
    "# plot poor people histogram, make bins at least 50, comment on the plot\n",
    "plt.hist(np.log(poor_nearest_dist), bins = 50);\n",
    "plt.title(f\"Distribution of Nearest Storm for the Poor\")"
   ]
  },
  {
   "cell_type": "markdown",
   "metadata": {
    "id": "8hG1om4G2R-j"
   },
   "source": [
    "# Distributional Characteristic Statistics\n",
    "\n",
    "In the following cells please perform some statistical analysis and determine whether rich people are more likely to be struck by extreme weather events, or, poor people are more likely. The methods/statistics presented in week one in class are extremely useful.  \n",
    "\n",
    "You should also find the difference of mean pooled t-test useful in this case but you must justify your assumptions for using it. You can use any python libraries or functions as well as go on stack overflow. You should also use the functions written up in the previous class [here](https://colab.research.google.com/drive/1L1Kx8qoHCY3yjuYg2tE4W61xu79xG7lJ?usp=sharing).\n",
    "\n",
    "$$ t = \\frac{ \\bar{X}_R - \\bar{X}_P}{ s_T \\sqrt{\\frac{1}{n_R} + \\frac{1}{n_P}}  } $$\n",
    "\n",
    "where, \n",
    "$$ s_T = \\sqrt{ \\frac{(n_R - 1)s_R + (n_P -1)s_P}{n_R + n_P - 2}  }  $$\n",
    "\n",
    "Hint: Use the following function `stats.ttest_ind` and adjust the appropriate setting such that you test wether $\\bar{X}_R > \\bar{X}_P$, or vice versa.\n",
    "\n",
    "Hint-2: Use the functions from the previous week's notebook. \n",
    "\n",
    "Caveat: Keep resampling techniques under 500 scenarios (in class we used 1000).\n",
    "\n",
    "\n",
    "### Please write your conclusion at the end wether Rich or Poor people are more likely to get hit by a severe weather storm. "
   ]
  },
  {
   "cell_type": "code",
   "execution_count": 11,
   "metadata": {},
   "outputs": [],
   "source": [
    "def display_statistics(x: np.array) -> None: \n",
    "    x_min = np.min(x)\n",
    "    x_med = np.median(x)\n",
    "    x_mean = np.mean(x)\n",
    "    x_max = np.max(x)\n",
    "    x_var = np.var(x)\n",
    "    x_skew = stats.skew(x)\n",
    "    x_kur = stats.kurtosis(x)\n",
    "    \n",
    "    display_string = f\"Min: {x_min}, Median: {x_med}, Mean: {x_mean}, Max: {x_max}, Var: {x_var}, Skewness: {x_skew}, Kurtosis: {x_kur}\"\n",
    "    print(display_string)"
   ]
  },
  {
   "cell_type": "code",
   "execution_count": 23,
   "metadata": {
    "id": "Py3GNOHocjVF"
   },
   "outputs": [
    {
     "name": "stdout",
     "output_type": "stream",
     "text": [
      "Min: -3.4445065440854954, Median: 1.3409308099007495, Mean: 1.3040923372138602, Max: 4.708303011220915, Var: 0.8168008117127656, Skewness: -0.3299063436879786, Kurtosis: 0.737158857853248\n"
     ]
    }
   ],
   "source": [
    "display_statistics(np.log(rich_nearest_dist))"
   ]
  },
  {
   "cell_type": "code",
   "execution_count": 22,
   "metadata": {},
   "outputs": [
    {
     "name": "stdout",
     "output_type": "stream",
     "text": [
      "Min: -2.7297474985703705, Median: 1.257083352125527, Mean: 1.2674264375386723, Max: 4.944577761022621, Var: 1.3709801958822911, Skewness: -0.0037538486646179624, Kurtosis: 0.5535546533385296\n"
     ]
    }
   ],
   "source": [
    "display_statistics(np.log(poor_nearest_dist))"
   ]
  },
  {
   "cell_type": "markdown",
   "metadata": {},
   "source": [
    "We then consider applying the mean pooled t-test to teset the independence for the means of two possibly independent variables. To apply the T-test, we also need to check the following assumptions:\n",
    "1. The scale of two measures follows a continuous scale, this is true for our case.\n",
    "2. The data is randomly sampled from the whole population.\n",
    "3. The data roughly follows the normal distribution.\n",
    "4. The sample data size is reasonalbly large, this is true for our case.\n",
    "5. The two datasets have the same variance. From our displayed statistics above, we can assume this to be true. "
   ]
  },
  {
   "cell_type": "code",
   "execution_count": 24,
   "metadata": {},
   "outputs": [],
   "source": [
    "t_test = stats.ttest_ind(np.log(rich_nearest_dist), np.log(poor_nearest_dist))\n"
   ]
  },
  {
   "cell_type": "code",
   "execution_count": 25,
   "metadata": {},
   "outputs": [
    {
     "name": "stdout",
     "output_type": "stream",
     "text": [
      "1.0653065939602715\n",
      "0.2867857472504475\n"
     ]
    }
   ],
   "source": [
    "print(t_test[0])\n",
    "print(t_test[1])"
   ]
  },
  {
   "cell_type": "markdown",
   "metadata": {},
   "source": [
    "Thus, we conclude that God does not hate rich people, there is not evidience showing that storm location is relatied to the locations of rich/poor people"
   ]
  }
 ],
 "metadata": {
  "colab": {
   "collapsed_sections": [],
   "provenance": []
  },
  "kernelspec": {
   "display_name": "torch",
   "language": "python",
   "name": "python3"
  },
  "language_info": {
   "codemirror_mode": {
    "name": "ipython",
    "version": 3
   },
   "file_extension": ".py",
   "mimetype": "text/x-python",
   "name": "python",
   "nbconvert_exporter": "python",
   "pygments_lexer": "ipython3",
   "version": "3.9.15 | packaged by conda-forge | (main, Nov 22 2022, 08:48:25) \n[Clang 14.0.6 ]"
  },
  "vscode": {
   "interpreter": {
    "hash": "c88567bf545c106fadd096c6d16ea872fd01c537014cf68a0103deb1b93cc68b"
   }
  }
 },
 "nbformat": 4,
 "nbformat_minor": 1
}
